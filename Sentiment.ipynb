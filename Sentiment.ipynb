{
  "nbformat": 4,
  "nbformat_minor": 0,
  "metadata": {
    "colab": {
      "name": "Sentiment.ipynb",
      "provenance": [],
      "collapsed_sections": [],
      "include_colab_link": true
    },
    "kernelspec": {
      "name": "python3",
      "display_name": "Python 3"
    },
    "accelerator": "TPU"
  },
  "cells": [
    {
      "cell_type": "markdown",
      "metadata": {
        "id": "view-in-github",
        "colab_type": "text"
      },
      "source": [
        "<a href=\"https://colab.research.google.com/github/Tirth1306/Sentiment-Analysis/blob/master/Sentiment.ipynb\" target=\"_parent\"><img src=\"https://colab.research.google.com/assets/colab-badge.svg\" alt=\"Open In Colab\"/></a>"
      ]
    },
    {
      "cell_type": "markdown",
      "metadata": {
        "id": "kIWQ7BCspWl_"
      },
      "source": [
        "## **18bce245 - Tirth Patel**"
      ]
    },
    {
      "cell_type": "code",
      "metadata": {
        "id": "eG-cVKt0NAaZ",
        "colab": {
          "base_uri": "https://localhost:8080/"
        },
        "outputId": "48a9d147-2f13-4cc1-8491-f7cb6c4e5fcf"
      },
      "source": [
        "from google.colab import drive\n",
        "drive.mount('/content/gdrive')"
      ],
      "execution_count": null,
      "outputs": [
        {
          "output_type": "stream",
          "text": [
            "Mounted at /content/gdrive\n"
          ],
          "name": "stdout"
        }
      ]
    },
    {
      "cell_type": "code",
      "metadata": {
        "id": "LVaQ7sT8NeeQ"
      },
      "source": [
        "import pandas as pd\n",
        "movie_reviews = pd.read_csv('/content/gdrive/My Drive/IMDB Dataset.csv')"
      ],
      "execution_count": null,
      "outputs": []
    },
    {
      "cell_type": "code",
      "metadata": {
        "id": "hFwrWwwr6V3u",
        "colab": {
          "base_uri": "https://localhost:8080/"
        },
        "outputId": "1f4afb0c-5085-4dc6-beb4-1c8bf834f43e"
      },
      "source": [
        "print(movie_reviews.loc[57])"
      ],
      "execution_count": null,
      "outputs": [
        {
          "output_type": "stream",
          "text": [
            "review       I laughed all the way through this rotten movi...\n",
            "sentiment                                             negative\n",
            "Name: 57, dtype: object\n"
          ],
          "name": "stdout"
        }
      ]
    },
    {
      "cell_type": "code",
      "metadata": {
        "id": "FKwznh6fOXfE",
        "colab": {
          "base_uri": "https://localhost:8080/"
        },
        "outputId": "c6f902c3-632e-4ae0-bacf-da490c73423e"
      },
      "source": [
        "movie_reviews.isnull().values.any()\n"
      ],
      "execution_count": null,
      "outputs": [
        {
          "output_type": "execute_result",
          "data": {
            "text/plain": [
              "False"
            ]
          },
          "metadata": {
            "tags": []
          },
          "execution_count": 4
        }
      ]
    },
    {
      "cell_type": "code",
      "metadata": {
        "id": "B0HXBHHvQ-CA",
        "colab": {
          "base_uri": "https://localhost:8080/",
          "height": 106
        },
        "outputId": "e517271f-b652-4cea-f8fe-f12965fde1a6"
      },
      "source": [
        "movie_reviews[\"review\"][3]"
      ],
      "execution_count": null,
      "outputs": [
        {
          "output_type": "execute_result",
          "data": {
            "application/vnd.google.colaboratory.intrinsic+json": {
              "type": "string"
            },
            "text/plain": [
              "\"Basically there's a family where a little boy (Jake) thinks there's a zombie in his closet & his parents are fighting all the time.<br /><br />This movie is slower than a soap opera... and suddenly, Jake decides to become Rambo and kill the zombie.<br /><br />OK, first of all when you're going to make a film you must Decide if its a thriller or a drama! As a drama the movie is watchable. Parents are divorcing & arguing like in real life. And then we have Jake with his closet which totally ruins all the film! I expected to see a BOOGEYMAN similar movie, and instead i watched a drama with some meaningless thriller spots.<br /><br />3 out of 10 just for the well playing parents & descent dialogs. As for the shots with Jake: just ignore them.\""
            ]
          },
          "metadata": {
            "tags": []
          },
          "execution_count": 5
        }
      ]
    },
    {
      "cell_type": "code",
      "metadata": {
        "id": "HEpUo15NRSb1",
        "colab": {
          "base_uri": "https://localhost:8080/",
          "height": 297
        },
        "outputId": "f2e5264f-8e5a-4fa9-b13a-36bf539165f6"
      },
      "source": [
        "import seaborn as sns\n",
        "\n",
        "sns.countplot(x='sentiment', data=movie_reviews)"
      ],
      "execution_count": null,
      "outputs": [
        {
          "output_type": "execute_result",
          "data": {
            "text/plain": [
              "<matplotlib.axes._subplots.AxesSubplot at 0x7fcc97c76550>"
            ]
          },
          "metadata": {
            "tags": []
          },
          "execution_count": 6
        },
        {
          "output_type": "display_data",
          "data": {
            "image/png": "[encoded data removed]",
            "text/plain": [
              "<Figure size 432x288 with 1 Axes>"
            ]
          },
          "metadata": {
            "tags": [],
            "needs_background": "light"
          }
        }
      ]
    },
    {
      "cell_type": "code",
      "metadata": {
        "id": "Q_lN5K-XRdBw",
        "colab": {
          "base_uri": "https://localhost:8080/"
        },
        "outputId": "b3f8fad6-5dbf-49bf-d55e-21dd5e4521f7"
      },
      "source": [
        "import pandas as pd\n",
        "import numpy as np\n",
        "import re\n",
        "import nltk\n",
        "from nltk.corpus import stopwords\n",
        "%tensorflow_version 1.x\n",
        "from numpy import array\n",
        "import keras.backend as KB\n",
        "import keras.layers as KL\n",
        "from keras.optimizers import Adam\n",
        "from keras.preprocessing.text import one_hot\n",
        "from keras.preprocessing.sequence import pad_sequences\n",
        "from keras.models import Sequential\n",
        "from keras.layers.core import Activation, Dropout, Dense\n",
        "from keras.layers import Flatten, Bidirectional\n",
        "from keras.layers import GlobalMaxPooling1D\n",
        "from keras.layers.embeddings import Embedding\n",
        "from sklearn.model_selection import train_test_split\n",
        "from keras.preprocessing.text import Tokenizer\n",
        "from keras.layers import Conv1D, Dense, MaxPool1D, Flatten, Input, LSTM"
      ],
      "execution_count": null,
      "outputs": [
        {
          "output_type": "stream",
          "text": [
            "TensorFlow 1.x selected.\n"
          ],
          "name": "stdout"
        },
        {
          "output_type": "stream",
          "text": [
            "Using TensorFlow backend.\n"
          ],
          "name": "stderr"
        }
      ]
    },
    {
      "cell_type": "code",
      "metadata": {
        "id": "6ZN3GMPKTN4R"
      },
      "source": [
        "def preprocess_text(sen):\n",
        "    # Removing html tags\n",
        "    sentence = remove_tags(sen)\n",
        "\n",
        "    # Remove punctuations and numbers\n",
        "    sentence = re.sub('[^a-zA-Z]', ' ', sentence)\n",
        "\n",
        "    # Single character removal\n",
        "    sentence = re.sub(r\"\\s+[a-zA-Z]\\s+\", ' ', sentence)\n",
        "\n",
        "    # Removing multiple spaces\n",
        "    sentence = re.sub(r'\\s+', ' ', sentence)\n",
        "\n",
        "    return sentence\n",
        "TAG_RE = re.compile(r'<[^>]+>')\n",
        "\n",
        "def remove_tags(text):\n",
        "    return TAG_RE.sub('', text)"
      ],
      "execution_count": null,
      "outputs": []
    },
    {
      "cell_type": "code",
      "metadata": {
        "id": "zUHQ8cpHUM_B"
      },
      "source": [
        "X = []\n",
        "sentences = list(movie_reviews['review'])\n",
        "for sen in sentences:\n",
        "    X.append(preprocess_text(sen))"
      ],
      "execution_count": null,
      "outputs": []
    },
    {
      "cell_type": "code",
      "metadata": {
        "id": "7mx7rmOVURO7",
        "colab": {
          "base_uri": "https://localhost:8080/",
          "height": 88
        },
        "outputId": "d108cbb4-5b2e-474c-9782-1e5e8f03943d"
      },
      "source": [
        "X[3]"
      ],
      "execution_count": null,
      "outputs": [
        {
          "output_type": "execute_result",
          "data": {
            "application/vnd.google.colaboratory.intrinsic+json": {
              "type": "string"
            },
            "text/plain": [
              "'Basically there a family where little boy Jake thinks there a zombie in his closet his parents are fighting all the time This movie is slower than soap opera and suddenly Jake decides to become Rambo and kill the zombie OK first of all when you re going to make film you must Decide if its thriller or drama As drama the movie is watchable Parents are divorcing arguing like in real life And then we have Jake with his closet which totally ruins all the film expected to see BOOGEYMAN similar movie and instead watched drama with some meaningless thriller spots out of just for the well playing parents descent dialogs As for the shots with Jake just ignore them '"
            ]
          },
          "metadata": {
            "tags": []
          },
          "execution_count": 10
        }
      ]
    },
    {
      "cell_type": "code",
      "metadata": {
        "id": "phyaHxuvUV9r"
      },
      "source": [
        "y = movie_reviews['sentiment']\n",
        "y = np.array(list(map(lambda x: 1 if x==\"positive\" else 0, y)))"
      ],
      "execution_count": null,
      "outputs": []
    },
    {
      "cell_type": "code",
      "metadata": {
        "id": "mSkmw21uUbNl"
      },
      "source": [
        "X_train, X_test, y_train, y_test = train_test_split(X, y, test_size=0.2, random_state=42)"
      ],
      "execution_count": null,
      "outputs": []
    },
    {
      "cell_type": "code",
      "metadata": {
        "id": "MzSnpOZzUstS",
        "colab": {
          "base_uri": "https://localhost:8080/"
        },
        "outputId": "02f6d824-1ed3-4c8a-e65f-92eb275bc324"
      },
      "source": [
        "print(X_train[1])"
      ],
      "execution_count": null,
      "outputs": [
        {
          "output_type": "stream",
          "text": [
            "I did not watch the entire movie could not watch the entire movie stopped the DVD after watching for half an hour and suggest anyone thinking of watching themselves it stop themselves before taking the disc out of the case like Mafia movies both tragic and comic but Corky Romano can only be described as tragic attempt at mafia comedy The problem is Corky Romano simply tries too hard to get the audience to laugh the plot seems to be an excuse for moving Chris Kattan Corky from one scene to another Corky himself is completely overplayed and lacks subtlety or credulity all his strange mannerisms come across as contrived Chris Kattan is clearly acting rather than taking role it bounces you right out of the story Each scene is utterly predictable the comedic event that will occur on the set is obvious as soon as each scene is introduced In comedies such as Mr Bean the disasters caused by the title character are funny because you can empathise with the characters motivations and initial event and the situation the character ends up in is not telegraphed Corky however gives the feeling that he is deliberately screwing up in desperate attempt to draw laugh from the audience If Chris had not played such an alien character who never really connects with the other characters in the movie and whose behaviour is entirely inexplicable except for trying to draw laughs and the comedy scenes weren so predictable and stereotyped all the jokes seemed far too familiar this movie could have been watchable But it isn Don watch it \n"
          ],
          "name": "stdout"
        }
      ]
    },
    {
      "cell_type": "code",
      "metadata": {
        "id": "0kO2xYJ00zPc"
      },
      "source": [
        "tokenizer = Tokenizer(num_words=8000)\n",
        "tokenizer.fit_on_texts(X_train)\n",
        "\n",
        "X_train = tokenizer.texts_to_sequences(X_train)\n",
        "X_test = tokenizer.texts_to_sequences(X_test)"
      ],
      "execution_count": null,
      "outputs": []
    },
    {
      "cell_type": "code",
      "metadata": {
        "id": "-1weuUsR8Chb",
        "colab": {
          "base_uri": "https://localhost:8080/"
        },
        "outputId": "0169b7f6-a3aa-475f-df1d-86b18145cd37"
      },
      "source": [
        "print(X_train[0])"
      ],
      "execution_count": null,
      "outputs": [
        {
          "output_type": "stream",
          "text": [
            "[9, 43, 786, 2121, 524, 299, 1, 104, 1860, 1989, 4281, 6409, 2, 782, 4786, 9, 1, 224, 1, 6093, 77, 763, 51, 49, 17, 97, 3, 1, 24, 1968, 98, 31, 23, 32, 116, 1101, 9, 6, 5, 2323, 1163, 4, 449, 43, 540, 4, 88, 28, 20, 37, 892, 397, 13, 1, 154, 4, 2935, 22, 4318, 18, 2897, 9, 42, 71, 218, 69, 123, 7, 76, 3100, 193, 18, 232, 2, 1, 427, 198, 4888, 147, 19, 60, 24, 13, 70, 358, 299, 16, 15, 6, 198, 25, 302, 9, 11, 1, 1820, 112, 413, 2, 11, 1, 1651, 562, 67, 419, 373, 82, 114, 43, 110, 361, 28, 33, 15, 41, 10, 88, 441, 6746, 13, 357, 1145, 59, 7, 1, 460, 214, 992, 4, 4124, 7, 174, 3, 32, 433, 680, 607, 9, 66, 227, 233, 107, 830, 33, 169, 27, 217, 9, 1, 423, 360, 53, 3696, 273, 157, 1672, 187, 5, 1, 711, 1904, 1, 1177, 3, 2838, 3672, 1652, 2, 144, 147, 225, 3, 203, 320, 2, 147, 1052, 14, 85, 3, 131, 2790, 15, 152, 95, 3, 1, 3974, 299, 8, 12, 975, 33, 1, 485, 2567, 242, 66, 72, 104, 104, 678, 57, 80, 66, 148, 1331, 4, 223, 131, 20, 4319, 29, 137, 205, 1123, 11, 4341, 5211, 29, 2276, 2, 7, 8, 5, 438, 11, 610, 3, 1, 703, 2915, 1, 1248, 2, 66, 3571, 1, 154, 1477, 1, 1217, 4, 1584, 1, 862, 1225, 4, 1, 296, 140, 2854, 2, 405, 614, 1, 263, 5, 3514, 977, 4, 25, 37, 11, 1237, 215, 62, 2, 35, 5, 27, 217, 24, 189, 1430, 7, 1068, 15, 4868, 81, 1, 221, 63, 351, 64, 52, 24, 4, 3547, 13, 6, 19, 192, 4, 859, 3430, 1720, 17, 23, 4, 158, 194, 175, 106, 9, 1604, 461, 71, 218, 4, 321, 2, 3431, 31, 20, 47, 68, 1844, 4668, 11, 6, 1365, 8, 16, 5, 3475, 1990, 14, 59, 1, 2380, 460, 518, 2, 170, 2524, 2698, 1745, 4, 573, 6, 33, 1, 3750, 198, 345, 3812]\n"
          ],
          "name": "stdout"
        }
      ]
    },
    {
      "cell_type": "code",
      "metadata": {
        "id": "jz94V-t209Yi"
      },
      "source": [
        "# Adding 1 because of reserved 0 index\n",
        "vocab_size = len(tokenizer.word_index) + 1\n",
        "\n",
        "maxlen = 500\n",
        "\n",
        "X_train = pad_sequences(X_train, padding='post', maxlen=maxlen)\n",
        "X_test = pad_sequences(X_test, padding='post', maxlen=maxlen)"
      ],
      "execution_count": null,
      "outputs": []
    },
    {
      "cell_type": "code",
      "metadata": {
        "id": "9gqc8Af4U14u"
      },
      "source": [
        "from numpy import array\n",
        "from numpy import asarray\n",
        "from numpy import zeros\n",
        "\n",
        "embeddings_dictionary = dict()\n",
        "glove_file = open('/content/gdrive/My Drive/glove.6B.100d.txt', encoding=\"utf8\")\n",
        "\n",
        "for line in glove_file:\n",
        "    records = line.split()\n",
        "    word = records[0]\n",
        "    vector_dimensions = asarray(records[1:], dtype='float32')\n",
        "    embeddings_dictionary[word] = vector_dimensions\n",
        "glove_file.close()"
      ],
      "execution_count": null,
      "outputs": []
    },
    {
      "cell_type": "code",
      "metadata": {
        "id": "ydfl61Zfy7uB"
      },
      "source": [
        "embedding_matrix = zeros((vocab_size, 100))\n",
        "for word, index in tokenizer.word_index.items():\n",
        "    embedding_vector = embeddings_dictionary.get(word)\n",
        "    if embedding_vector is not None:\n",
        "        embedding_matrix[index] = embedding_vector"
      ],
      "execution_count": null,
      "outputs": []
    },
    {
      "cell_type": "code",
      "metadata": {
        "id": "QOKODwlaYkX8",
        "colab": {
          "base_uri": "https://localhost:8080/"
        },
        "outputId": "cdb32b07-27d9-4efa-8a5c-ee89f603b5f3"
      },
      "source": [
        "len(embeddings_dictionary)"
      ],
      "execution_count": null,
      "outputs": [
        {
          "output_type": "execute_result",
          "data": {
            "text/plain": [
              "400000"
            ]
          },
          "metadata": {
            "tags": []
          },
          "execution_count": 19
        }
      ]
    },
    {
      "cell_type": "code",
      "metadata": {
        "id": "F5CvceGPzwFK",
        "colab": {
          "base_uri": "https://localhost:8080/"
        },
        "outputId": "b58d8b94-9078-4568-f5c6-1809062d450a"
      },
      "source": [
        "model = Sequential()\n",
        "embedding_layer = Embedding(vocab_size, 100, weights=[embedding_matrix], input_length=maxlen , trainable=True)\n",
        "model.add(embedding_layer)\n",
        "model.add(Bidirectional(LSTM(100)))\n",
        "model.add(Dense(1,activation='sigmoid'))\n",
        "model.compile(optimizer=Adam(lr=0.0001), loss='binary_crossentropy', metrics=['acc'])"
      ],
      "execution_count": null,
      "outputs": [
        {
          "output_type": "stream",
          "text": [
            "WARNING:tensorflow:From /tensorflow-1.15.2/python3.7/tensorflow_core/python/ops/resource_variable_ops.py:1630: calling BaseResourceVariable.__init__ (from tensorflow.python.ops.resource_variable_ops) with constraint is deprecated and will be removed in a future version.\n",
            "Instructions for updating:\n",
            "If using Keras pass *_constraint arguments to layers.\n",
            "WARNING:tensorflow:From /tensorflow-1.15.2/python3.7/tensorflow_core/python/ops/nn_impl.py:183: where (from tensorflow.python.ops.array_ops) is deprecated and will be removed in a future version.\n",
            "Instructions for updating:\n",
            "Use tf.where in 2.0, which has the same broadcast rule as np.where\n"
          ],
          "name": "stdout"
        }
      ]
    },
    {
      "cell_type": "code",
      "metadata": {
        "id": "hcTxY1Ts1sTR",
        "colab": {
          "base_uri": "https://localhost:8080/"
        },
        "outputId": "8d474bba-f4b8-4aaf-85b3-654eac33bb63"
      },
      "source": [
        "print(model.summary())"
      ],
      "execution_count": null,
      "outputs": [
        {
          "output_type": "stream",
          "text": [
            "Model: \"sequential_1\"\n",
            "_________________________________________________________________\n",
            "Layer (type)                 Output Shape              Param #   \n",
            "=================================================================\n",
            "embedding_1 (Embedding)      (None, 500, 100)          9254700   \n",
            "_________________________________________________________________\n",
            "bidirectional_1 (Bidirection (None, 200)               160800    \n",
            "_________________________________________________________________\n",
            "dense_1 (Dense)              (None, 1)                 201       \n",
            "=================================================================\n",
            "Total params: 9,415,701\n",
            "Trainable params: 9,415,701\n",
            "Non-trainable params: 0\n",
            "_________________________________________________________________\n",
            "None\n"
          ],
          "name": "stdout"
        }
      ]
    },
    {
      "cell_type": "code",
      "metadata": {
        "id": "z5m-Sddt2YKq",
        "colab": {
          "base_uri": "https://localhost:8080/"
        },
        "outputId": "7b816595-9bb4-4aa2-a2ae-2d5a224e28df"
      },
      "source": [
        "history = model.fit(X_train, y_train, batch_size=64, epochs=10, verbose=1, validation_split=0.2)\n",
        "\n",
        "score = model.evaluate(X_test, y_test, verbose=1)"
      ],
      "execution_count": null,
      "outputs": [
        {
          "output_type": "stream",
          "text": [
            "WARNING:tensorflow:From /tensorflow-1.15.2/python3.7/keras/backend/tensorflow_backend.py:422: The name tf.global_variables is deprecated. Please use tf.compat.v1.global_variables instead.\n",
            "\n",
            "Train on 32000 samples, validate on 8000 samples\n",
            "Epoch 1/10\n",
            "32000/32000 [==============================] - 802s 25ms/step - loss: 0.6480 - acc: 0.6297 - val_loss: 0.5791 - val_acc: 0.7325\n",
            "Epoch 2/10\n",
            "32000/32000 [==============================] - 798s 25ms/step - loss: 0.5504 - acc: 0.7357 - val_loss: 0.4847 - val_acc: 0.7864\n",
            "Epoch 3/10\n",
            "32000/32000 [==============================] - 791s 25ms/step - loss: 0.4568 - acc: 0.7991 - val_loss: 0.4312 - val_acc: 0.8135\n",
            "Epoch 4/10\n",
            "32000/32000 [==============================] - 793s 25ms/step - loss: 0.4013 - acc: 0.8288 - val_loss: 0.3921 - val_acc: 0.8260\n",
            "Epoch 5/10\n",
            "32000/32000 [==============================] - 786s 25ms/step - loss: 0.3667 - acc: 0.8484 - val_loss: 0.3825 - val_acc: 0.8495\n",
            "Epoch 6/10\n",
            "32000/32000 [==============================] - 797s 25ms/step - loss: 0.3369 - acc: 0.8619 - val_loss: 0.3342 - val_acc: 0.8604\n",
            "Epoch 7/10\n",
            "32000/32000 [==============================] - 826s 26ms/step - loss: 0.3180 - acc: 0.8710 - val_loss: 0.4528 - val_acc: 0.7895\n",
            "Epoch 8/10\n",
            "32000/32000 [==============================] - 831s 26ms/step - loss: 0.2969 - acc: 0.8812 - val_loss: 0.3206 - val_acc: 0.8696\n",
            "Epoch 9/10\n",
            "32000/32000 [==============================] - 791s 25ms/step - loss: 0.2811 - acc: 0.8881 - val_loss: 0.3224 - val_acc: 0.8735\n",
            "Epoch 10/10\n",
            "32000/32000 [==============================] - 785s 25ms/step - loss: 0.2667 - acc: 0.8936 - val_loss: 0.3056 - val_acc: 0.8681\n",
            "10000/10000 [==============================] - 58s 6ms/step\n"
          ],
          "name": "stdout"
        }
      ]
    },
    {
      "cell_type": "code",
      "metadata": {
        "id": "oYdpIi8d2dwo",
        "colab": {
          "base_uri": "https://localhost:8080/"
        },
        "outputId": "094e25e5-8008-439a-9bb2-ef4000f19823"
      },
      "source": [
        "print(\"Test Score:\", score[0])\n",
        "print(\"Test Accuracy:\", score[1])"
      ],
      "execution_count": null,
      "outputs": [
        {
          "output_type": "stream",
          "text": [
            "Test Score: 0.3071125388383865\n",
            "Test Accuracy: 0.8705999851226807\n"
          ],
          "name": "stdout"
        }
      ]
    },
    {
      "cell_type": "code",
      "metadata": {
        "id": "w6357O894Y4q",
        "colab": {
          "base_uri": "https://localhost:8080/",
          "height": 573
        },
        "outputId": "696e2ca2-6e16-4d67-cea7-4f2338739bff"
      },
      "source": [
        "import matplotlib.pyplot as plt\n",
        "\n",
        "plt.plot(history.history['acc'])\n",
        "plt.plot(history.history['val_acc'])\n",
        "\n",
        "plt.title('model accuracy')\n",
        "plt.ylabel('accuracy')\n",
        "plt.xlabel('epoch')\n",
        "plt.legend(['train','test'], loc='upper left')\n",
        "plt.show()\n",
        "\n",
        "plt.plot(history.history['loss'])\n",
        "plt.plot(history.history['val_loss'])\n",
        "\n",
        "plt.title('model loss')\n",
        "plt.ylabel('loss')\n",
        "plt.xlabel('epoch')\n",
        "plt.legend(['train','test'], loc='upper left')\n",
        "plt.show()"
      ],
      "execution_count": null,
      "outputs": [
        {
          "output_type": "display_data",
          "data": {
            "image/png": "[encoded data removed]",
            "text/plain": [
              "<Figure size 432x288 with 1 Axes>"
            ]
          },
          "metadata": {
            "tags": [],
            "needs_background": "light"
          }
        },
        {
          "output_type": "display_data",
          "data": {
            "image/png": "[encoded data removed]",
            "text/plain": [
              "<Figure size 432x288 with 1 Axes>"
            ]
          },
          "metadata": {
            "tags": [],
            "needs_background": "light"
          }
        }
      ]
    },
    {
      "cell_type": "code",
      "metadata": {
        "id": "pfUIDUy34emH",
        "colab": {
          "base_uri": "https://localhost:8080/"
        },
        "outputId": "beb5a268-2a5a-4139-f9a7-71dd5f1a4397"
      },
      "source": [
        "instance = X[4]\n",
        "print(instance)"
      ],
      "execution_count": null,
      "outputs": [
        {
          "output_type": "stream",
          "text": [
            "Petter Mattei Love in the Time of Money is visually stunning film to watch Mr Mattei offers us vivid portrait about human relations This is movie that seems to be telling us what money power and success do to people in the different situations we encounter This being variation on the Arthur Schnitzler play about the same theme the director transfers the action to the present time New York where all these different characters meet and connect Each one is connected in one way or another to the next person but no one seems to know the previous point of contact Stylishly the film has sophisticated luxurious look We are taken to see how these people live and the world they live in their own habitat The only thing one gets out of all these souls in the picture is the different stages of loneliness each one inhabits big city is not exactly the best place in which human relations find sincere fulfillment as one discerns is the case with most of the people we encounter The acting is good under Mr Mattei direction Steve Buscemi Rosario Dawson Carol Kane Michael Imperioli Adrian Grenier and the rest of the talented cast make these characters come alive We wish Mr Mattei good luck and await anxiously for his next work \n"
          ],
          "name": "stdout"
        }
      ]
    },
    {
      "cell_type": "code",
      "metadata": {
        "id": "-exuY5fINlfV",
        "colab": {
          "base_uri": "https://localhost:8080/"
        },
        "outputId": "117543eb-8c96-4503-e1f9-570e934bbf18"
      },
      "source": [
        "instance = tokenizer.texts_to_sequences(instance)\n",
        "print(instance)\n",
        "flat_list = []\n",
        "for sublist in instance:\n",
        "    for item in sublist:\n",
        "        flat_list.append(item)\n",
        "\n",
        "flat_list = [flat_list]\n",
        "\n",
        "instance = pad_sequences(flat_list, padding='post', maxlen=maxlen)\n",
        "\n",
        "model.predict(instance)"
      ],
      "execution_count": null,
      "outputs": [
        {
          "output_type": "stream",
          "text": [
            "[[4962], [1674], [2798], [2798], [1674], [4538], [], [147], [128], [2798], [2798], [1674], [124], [], [6091], [3940], [3168], [1674], [], [124], [], [], [2798], [7073], [1674], [], [2798], [124], [147], [1674], [], [3940], [6269], [], [147], [3940], [], [1674], [], [], [124], [767], [], [3168], [124], [767], [], [128], [6091], [6091], [], [], [767], [2798], [], [], [], [124], [], [2189], [], [6269], [124], [6091], [147], [], [2798], [3940], [], [4057], [128], [2798], [2965], [7073], [], [147], [4538], [], [147], [128], [2798], [2798], [1674], [124], [], [3940], [6269], [6269], [1674], [4538], [767], [], [], [767], [], [3168], [124], [3168], [124], [441], [], [4962], [3940], [4538], [2798], [4538], [128], [124], [2798], [], [128], [1957], [3940], [], [2798], [], [7073], [], [147], [128], [], [], [4538], [1674], [6091], [128], [2798], [124], [3940], [], [767], [], [2798], [7073], [124], [767], [], [124], [767], [], [147], [3940], [3168], [124], [1674], [], [2798], [7073], [128], [2798], [], [767], [1674], [1674], [147], [767], [], [2798], [3940], [], [1957], [1674], [], [2798], [1674], [6091], [6091], [124], [], [2189], [], [], [767], [], [4057], [7073], [128], [2798], [], [147], [3940], [], [1674], [], [], [4962], [3940], [4057], [1674], [4538], [], [128], [], [441], [], [767], [], [2965], [2965], [1674], [767], [767], [], [441], [3940], [], [2798], [3940], [], [4962], [1674], [3940], [4962], [6091], [1674], [], [124], [], [], [2798], [7073], [1674], [], [441], [124], [6269], [6269], [1674], [4538], [1674], [], [2798], [], [767], [124], [2798], [], [128], [2798], [124], [3940], [], [767], [], [4057], [1674], [], [1674], [], [2965], [3940], [], [], [2798], [1674], [4538], [], [2798], [7073], [124], [767], [], [1957], [1674], [124], [], [2189], [], [3168], [128], [4538], [124], [128], [2798], [124], [3940], [], [], [3940], [], [], [2798], [7073], [1674], [], [128], [4538], [2798], [7073], [], [4538], [], [767], [2965], [7073], [], [124], [2798], [], [6091], [1674], [4538], [], [4962], [6091], [128], [], [], [128], [1957], [3940], [], [2798], [], [2798], [7073], [1674], [], [767], [128], [147], [1674], [], [2798], [7073], [1674], [147], [1674], [], [2798], [7073], [1674], [], [441], [124], [4538], [1674], [2965], [2798], [3940], [4538], [], [2798], [4538], [128], [], [767], [6269], [1674], [4538], [767], [], [2798], [7073], [1674], [], [128], [2965], [2798], [124], [3940], [], [], [2798], [3940], [], [2798], [7073], [1674], [], [4962], [4538], [1674], [767], [1674], [], [2798], [], [2798], [124], [147], [1674], [], [], [1674], [4057], [], [], [3940], [4538], [2890], [], [4057], [7073], [1674], [4538], [1674], [], [128], [6091], [6091], [], [2798], [7073], [1674], [767], [1674], [], [441], [124], [6269], [6269], [1674], [4538], [1674], [], [2798], [], [2965], [7073], [128], [4538], [128], [2965], [2798], [1674], [4538], [767], [], [147], [1674], [1674], [2798], [], [128], [], [441], [], [2965], [3940], [], [], [1674], [2965], [2798], [], [1674], [128], [2965], [7073], [], [3940], [], [1674], [], [124], [767], [], [2965], [3940], [], [], [1674], [2965], [2798], [1674], [441], [], [124], [], [], [3940], [], [1674], [], [4057], [128], [], [], [3940], [4538], [], [128], [], [3940], [2798], [7073], [1674], [4538], [], [2798], [3940], [], [2798], [7073], [1674], [], [], [1674], [], [2798], [], [4962], [1674], [4538], [767], [3940], [], [], [1957], [], [2798], [], [], [3940], [], [3940], [], [1674], [], [767], [1674], [1674], [147], [767], [], [2798], [3940], [], [2890], [], [3940], [4057], [], [2798], [7073], [1674], [], [4962], [4538], [1674], [3168], [124], [3940], [], [767], [], [4962], [3940], [124], [], [2798], [], [3940], [6269], [], [2965], [3940], [], [2798], [128], [2965], [2798], [], [767], [2798], [], [6091], [124], [767], [7073], [6091], [], [], [2798], [7073], [1674], [], [6269], [124], [6091], [147], [], [7073], [128], [767], [], [767], [3940], [4962], [7073], [124], [767], [2798], [124], [2965], [128], [2798], [1674], [441], [], [6091], [], [], [], [4538], [124], [3940], [], [767], [], [6091], [3940], [3940], [2890], [], [4057], [1674], [], [128], [4538], [1674], [], [2798], [128], [2890], [1674], [], [], [2798], [3940], [], [767], [1674], [1674], [], [7073], [3940], [4057], [], [2798], [7073], [1674], [767], [1674], [], [4962], [1674], [3940], [4962], [6091], [1674], [], [6091], [124], [3168], [1674], [], [128], [], [441], [], [2798], [7073], [1674], [], [4057], [3940], [4538], [6091], [441], [], [2798], [7073], [1674], [], [], [6091], [124], [3168], [1674], [], [124], [], [], [2798], [7073], [1674], [124], [4538], [], [3940], [4057], [], [], [7073], [128], [1957], [124], [2798], [128], [2798], [], [2798], [7073], [1674], [], [3940], [], [6091], [], [], [2798], [7073], [124], [], [2189], [], [3940], [], [1674], [], [2189], [1674], [2798], [767], [], [3940], [], [2798], [], [3940], [6269], [], [128], [6091], [6091], [], [2798], [7073], [1674], [767], [1674], [], [767], [3940], [], [6091], [767], [], [124], [], [], [2798], [7073], [1674], [], [4962], [124], [2965], [2798], [], [4538], [1674], [], [124], [767], [], [2798], [7073], [1674], [], [441], [124], [6269], [6269], [1674], [4538], [1674], [], [2798], [], [767], [2798], [128], [2189], [1674], [767], [], [3940], [6269], [], [6091], [3940], [], [1674], [6091], [124], [], [1674], [767], [767], [], [1674], [128], [2965], [7073], [], [3940], [], [1674], [], [124], [], [7073], [128], [1957], [124], [2798], [767], [], [1957], [124], [2189], [], [2965], [124], [2798], [], [], [124], [767], [], [], [3940], [2798], [], [1674], [], [128], [2965], [2798], [6091], [], [], [2798], [7073], [1674], [], [1957], [1674], [767], [2798], [], [4962], [6091], [128], [2965], [1674], [], [124], [], [], [4057], [7073], [124], [2965], [7073], [], [7073], [], [147], [128], [], [], [4538], [1674], [6091], [128], [2798], [124], [3940], [], [767], [], [6269], [124], [], [441], [], [767], [124], [], [2965], [1674], [4538], [1674], [], [6269], [], [6091], [6269], [124], [6091], [6091], [147], [1674], [], [2798], [], [128], [767], [], [3940], [], [1674], [], [441], [124], [767], [2965], [1674], [4538], [], [767], [], [124], [767], [], [2798], [7073], [1674], [], [2965], [128], [767], [1674], [], [4057], [124], [2798], [7073], [], [147], [3940], [767], [2798], [], [3940], [6269], [], [2798], [7073], [1674], [], [4962], [1674], [3940], [4962], [6091], [1674], [], [4057], [1674], [], [1674], [], [2965], [3940], [], [], [2798], [1674], [4538], [], [2798], [7073], [1674], [], [128], [2965], [2798], [124], [], [2189], [], [124], [767], [], [2189], [3940], [3940], [441], [], [], [], [441], [1674], [4538], [], [147], [4538], [], [147], [128], [2798], [2798], [1674], [124], [], [441], [124], [4538], [1674], [2965], [2798], [124], [3940], [], [], [767], [2798], [1674], [3168], [1674], [], [1957], [], [767], [2965], [1674], [147], [124], [], [4538], [3940], [767], [128], [4538], [124], [3940], [], [441], [128], [4057], [767], [3940], [], [], [2965], [128], [4538], [3940], [6091], [], [2890], [128], [], [1674], [], [147], [124], [2965], [7073], [128], [1674], [6091], [], [124], [147], [4962], [1674], [4538], [124], [3940], [6091], [124], [], [128], [441], [4538], [124], [128], [], [], [2189], [4538], [1674], [], [124], [1674], [4538], [], [128], [], [441], [], [2798], [7073], [1674], [], [4538], [1674], [767], [2798], [], [3940], [6269], [], [2798], [7073], [1674], [], [2798], [128], [6091], [1674], [], [2798], [1674], [441], [], [2965], [128], [767], [2798], [], [147], [128], [2890], [1674], [], [2798], [7073], [1674], [767], [1674], [], [2965], [7073], [128], [4538], [128], [2965], [2798], [1674], [4538], [767], [], [2965], [3940], [147], [1674], [], [128], [6091], [124], [3168], [1674], [], [4057], [1674], [], [4057], [124], [767], [7073], [], [147], [4538], [], [147], [128], [2798], [2798], [1674], [124], [], [2189], [3940], [3940], [441], [], [6091], [], [2965], [2890], [], [128], [], [441], [], [128], [4057], [128], [124], [2798], [], [128], [], [], [124], [3940], [], [767], [6091], [], [], [6269], [3940], [4538], [], [7073], [124], [767], [], [], [1674], [], [2798], [], [4057], [3940], [4538], [2890], []]\n"
          ],
          "name": "stdout"
        },
        {
          "output_type": "execute_result",
          "data": {
            "text/plain": [
              "array([[0.7643601]], dtype=float32)"
            ]
          },
          "metadata": {
            "tags": []
          },
          "execution_count": 26
        }
      ]
    },
    {
      "cell_type": "code",
      "metadata": {
        "id": "NNRnPwo-Rxx_"
      },
      "source": [
        "movie_reviews.loc[4]"
      ],
      "execution_count": null,
      "outputs": []
    }
  ]
}