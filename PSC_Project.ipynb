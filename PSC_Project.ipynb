{
  "nbformat": 4,
  "nbformat_minor": 0,
  "metadata": {
    "colab": {
      "name": "PSC_Project",
      "provenance": [],
      "collapsed_sections": []
    },
    "kernelspec": {
      "name": "python3",
      "display_name": "Python 3"
    },
    "accelerator": "TPU"
  },
  "cells": [
    {
      "cell_type": "code",
      "metadata": {
        "id": "eG-cVKt0NAaZ",
        "colab_type": "code",
        "colab": {
          "base_uri": "https://localhost:8080/",
          "height": 125
        },
        "outputId": "fb55d18f-28c2-4631-c43e-bf2c877c18f0"
      },
      "source": [
        "from google.colab import drive\n",
        "drive.mount('/content/gdrive')"
      ],
      "execution_count": null,
      "outputs": [
        {
          "output_type": "stream",
          "text": [
            "Go to this URL in a browser: https://accounts.google.com/o/oauth2/auth?client_id=947318989803-6bn6qk8qdgf4n4g3pfee6491hc0brc4i.apps.googleusercontent.com&redirect_uri=urn%3aietf%3awg%3aoauth%3a2.0%3aoob&response_type=code&scope=email%20https%3a%2f%2fwww.googleapis.com%2fauth%2fdocs.test%20https%3a%2f%2fwww.googleapis.com%2fauth%2fdrive%20https%3a%2f%2fwww.googleapis.com%2fauth%2fdrive.photos.readonly%20https%3a%2f%2fwww.googleapis.com%2fauth%2fpeopleapi.readonly\n",
            "\n",
            "Enter your authorization code:\n",
            "··········\n",
            "Mounted at /content/gdrive\n"
          ],
          "name": "stdout"
        }
      ]
    },
    {
      "cell_type": "code",
      "metadata": {
        "id": "LVaQ7sT8NeeQ",
        "colab_type": "code",
        "colab": {}
      },
      "source": [
        "import pandas as pd\n",
        "movie_reviews = pd.read_csv('/content/gdrive/My Drive/IMDB Dataset.csv')"
      ],
      "execution_count": null,
      "outputs": []
    },
    {
      "cell_type": "code",
      "metadata": {
        "id": "hFwrWwwr6V3u",
        "colab_type": "code",
        "colab": {
          "base_uri": "https://localhost:8080/",
          "height": 70
        },
        "outputId": "98ee497e-6ef8-485e-c5fb-9430a3757dce"
      },
      "source": [
        "print(movie_reviews.loc[57])"
      ],
      "execution_count": null,
      "outputs": [
        {
          "output_type": "stream",
          "text": [
            "review       I laughed all the way through this rotten movi...\n",
            "sentiment                                             negative\n",
            "Name: 57, dtype: object\n"
          ],
          "name": "stdout"
        }
      ]
    },
    {
      "cell_type": "code",
      "metadata": {
        "id": "FKwznh6fOXfE",
        "colab_type": "code",
        "colab": {
          "base_uri": "https://localhost:8080/",
          "height": 34
        },
        "outputId": "f92e4b94-1de5-4916-daa5-9fa0786c8254"
      },
      "source": [
        "movie_reviews.isnull().values.any()\n"
      ],
      "execution_count": null,
      "outputs": [
        {
          "output_type": "execute_result",
          "data": {
            "text/plain": [
              "False"
            ]
          },
          "metadata": {
            "tags": []
          },
          "execution_count": 4
        }
      ]
    },
    {
      "cell_type": "code",
      "metadata": {
        "id": "B0HXBHHvQ-CA",
        "colab_type": "code",
        "colab": {
          "base_uri": "https://localhost:8080/",
          "height": 54
        },
        "outputId": "8121c235-6e50-4c80-b8d6-eb4623a04e65"
      },
      "source": [
        "movie_reviews[\"review\"][3]"
      ],
      "execution_count": null,
      "outputs": [
        {
          "output_type": "execute_result",
          "data": {
            "text/plain": [
              "\"Basically there's a family where a little boy (Jake) thinks there's a zombie in his closet & his parents are fighting all the time.<br /><br />This movie is slower than a soap opera... and suddenly, Jake decides to become Rambo and kill the zombie.<br /><br />OK, first of all when you're going to make a film you must Decide if its a thriller or a drama! As a drama the movie is watchable. Parents are divorcing & arguing like in real life. And then we have Jake with his closet which totally ruins all the film! I expected to see a BOOGEYMAN similar movie, and instead i watched a drama with some meaningless thriller spots.<br /><br />3 out of 10 just for the well playing parents & descent dialogs. As for the shots with Jake: just ignore them.\""
            ]
          },
          "metadata": {
            "tags": []
          },
          "execution_count": 5
        }
      ]
    },
    {
      "cell_type": "code",
      "metadata": {
        "id": "HEpUo15NRSb1",
        "colab_type": "code",
        "colab": {
          "base_uri": "https://localhost:8080/",
          "height": 352
        },
        "outputId": "dbe3ebbf-2edf-493c-a617-450d95651884"
      },
      "source": [
        "import seaborn as sns\n",
        "\n",
        "sns.countplot(x='sentiment', data=movie_reviews)"
      ],
      "execution_count": null,
      "outputs": [
        {
          "output_type": "stream",
          "text": [
            "/usr/local/lib/python3.6/dist-packages/statsmodels/tools/_testing.py:19: FutureWarning: pandas.util.testing is deprecated. Use the functions in the public API at pandas.testing instead.\n",
            "  import pandas.util.testing as tm\n"
          ],
          "name": "stderr"
        },
        {
          "output_type": "execute_result",
          "data": {
            "text/plain": [
              "<matplotlib.axes._subplots.AxesSubplot at 0x7f08158063c8>"
            ]
          },
          "metadata": {
            "tags": []
          },
          "execution_count": 6
        },
        {
          "output_type": "display_data",
          "data": {
            "image/png": "[encoded data removed]",
            "text/plain": [
              "<Figure size 432x288 with 1 Axes>"
            ]
          },
          "metadata": {
            "tags": [],
            "needs_background": "light"
          }
        }
      ]
    },
    {
      "cell_type": "code",
      "metadata": {
        "id": "Q_lN5K-XRdBw",
        "colab_type": "code",
        "colab": {
          "base_uri": "https://localhost:8080/",
          "height": 52
        },
        "outputId": "2b5e5c34-4b31-4820-8c86-67f327354b13"
      },
      "source": [
        "import pandas as pd\n",
        "import numpy as np\n",
        "import re\n",
        "import nltk\n",
        "from nltk.corpus import stopwords\n",
        "%tensorflow_version 1.x\n",
        "from numpy import array\n",
        "import keras.backend as KB\n",
        "import keras.layers as KL\n",
        "from keras.optimizers import Adam\n",
        "from keras.preprocessing.text import one_hot\n",
        "from keras.preprocessing.sequence import pad_sequences\n",
        "from keras.models import Sequential\n",
        "from keras.layers.core import Activation, Dropout, Dense\n",
        "from keras.layers import Flatten, Bidirectional\n",
        "from keras.layers import GlobalMaxPooling1D\n",
        "from keras.layers.embeddings import Embedding\n",
        "from sklearn.model_selection import train_test_split\n",
        "from keras.preprocessing.text import Tokenizer\n",
        "from keras.layers import Conv1D, Dense, MaxPool1D, Flatten, Input, LSTM"
      ],
      "execution_count": null,
      "outputs": [
        {
          "output_type": "stream",
          "text": [
            "TensorFlow 1.x selected.\n"
          ],
          "name": "stdout"
        },
        {
          "output_type": "stream",
          "text": [
            "Using TensorFlow backend.\n"
          ],
          "name": "stderr"
        }
      ]
    },
    {
      "cell_type": "code",
      "metadata": {
        "id": "6ZN3GMPKTN4R",
        "colab_type": "code",
        "colab": {}
      },
      "source": [
        "def preprocess_text(sen):\n",
        "    # Removing html tags\n",
        "    sentence = remove_tags(sen)\n",
        "\n",
        "    # Remove punctuations and numbers\n",
        "    sentence = re.sub('[^a-zA-Z]', ' ', sentence)\n",
        "\n",
        "    # Single character removal\n",
        "    sentence = re.sub(r\"\\s+[a-zA-Z]\\s+\", ' ', sentence)\n",
        "\n",
        "    # Removing multiple spaces\n",
        "    sentence = re.sub(r'\\s+', ' ', sentence)\n",
        "\n",
        "    return sentence\n",
        "TAG_RE = re.compile(r'<[^>]+>')\n",
        "\n",
        "def remove_tags(text):\n",
        "    return TAG_RE.sub('', text)"
      ],
      "execution_count": null,
      "outputs": []
    },
    {
      "cell_type": "code",
      "metadata": {
        "id": "zUHQ8cpHUM_B",
        "colab_type": "code",
        "colab": {}
      },
      "source": [
        "X = []\n",
        "sentences = list(movie_reviews['review'])\n",
        "for sen in sentences:\n",
        "    X.append(preprocess_text(sen))"
      ],
      "execution_count": null,
      "outputs": []
    },
    {
      "cell_type": "code",
      "metadata": {
        "id": "7mx7rmOVURO7",
        "colab_type": "code",
        "colab": {
          "base_uri": "https://localhost:8080/",
          "height": 54
        },
        "outputId": "c71ee10f-2fdd-46e1-acaa-d0b97a07cd5c"
      },
      "source": [
        "X[3]"
      ],
      "execution_count": null,
      "outputs": [
        {
          "output_type": "execute_result",
          "data": {
            "text/plain": [
              "'Basically there a family where little boy Jake thinks there a zombie in his closet his parents are fighting all the time This movie is slower than soap opera and suddenly Jake decides to become Rambo and kill the zombie OK first of all when you re going to make film you must Decide if its thriller or drama As drama the movie is watchable Parents are divorcing arguing like in real life And then we have Jake with his closet which totally ruins all the film expected to see BOOGEYMAN similar movie and instead watched drama with some meaningless thriller spots out of just for the well playing parents descent dialogs As for the shots with Jake just ignore them '"
            ]
          },
          "metadata": {
            "tags": []
          },
          "execution_count": 10
        }
      ]
    },
    {
      "cell_type": "code",
      "metadata": {
        "id": "phyaHxuvUV9r",
        "colab_type": "code",
        "colab": {}
      },
      "source": [
        "y = movie_reviews['sentiment']\n",
        "y = np.array(list(map(lambda x: 1 if x==\"positive\" else 0, y)))"
      ],
      "execution_count": null,
      "outputs": []
    },
    {
      "cell_type": "code",
      "metadata": {
        "id": "mSkmw21uUbNl",
        "colab_type": "code",
        "colab": {}
      },
      "source": [
        "X_train, X_test, y_train, y_test = train_test_split(X, y, test_size=0.5, random_state=42)"
      ],
      "execution_count": null,
      "outputs": []
    },
    {
      "cell_type": "code",
      "metadata": {
        "id": "MzSnpOZzUstS",
        "colab_type": "code",
        "colab": {
          "base_uri": "https://localhost:8080/",
          "height": 54
        },
        "outputId": "a77ec287-a8ab-4a85-849f-dd7b9ea498dd"
      },
      "source": [
        "print(X_train[1])"
      ],
      "execution_count": null,
      "outputs": [
        {
          "output_type": "stream",
          "text": [
            "Wow here it finally is the action movie without action In real low budget setting don miss the hilarious flying saucers flying by few times of future Seattle we find no brain hardbody seeking to avenge her childhood There is nothing even remotely original or interesting about the plot and the actors performance is only rivalled in stupidity by the attempts to steal from other movies mainly Matrix without having the money to do it right Yes we do get to see some running on walls and slow motion shoot outs secs approx but these scenes are about as cool as the stupid hardbody attempts at making jokes about male incompetence now and then And yes we are also served number of leads that lead absolutely nowhere as if the script was thought out by the previously unseen cast while shooting the scenes Believe me it is as bad as it possibly can get In fact it doesn deserve to be taken seriously but perhaps can make some of you not rent it and save your money \n"
          ],
          "name": "stdout"
        }
      ]
    },
    {
      "cell_type": "code",
      "metadata": {
        "id": "0kO2xYJ00zPc",
        "colab_type": "code",
        "colab": {}
      },
      "source": [
        "tokenizer = Tokenizer(num_words=8000)\n",
        "tokenizer.fit_on_texts(X_train)\n",
        "\n",
        "X_train = tokenizer.texts_to_sequences(X_train)\n",
        "X_test = tokenizer.texts_to_sequences(X_test)"
      ],
      "execution_count": null,
      "outputs": []
    },
    {
      "cell_type": "code",
      "metadata": {
        "id": "-1weuUsR8Chb",
        "colab_type": "code",
        "colab": {
          "base_uri": "https://localhost:8080/",
          "height": 54
        },
        "outputId": "8b73bab3-3c50-4e67-b81c-f495dd823e81"
      },
      "source": [
        "print(X_train[0])"
      ],
      "execution_count": null,
      "outputs": [
        {
          "output_type": "stream",
          "text": [
            "[5, 416, 18, 1, 111, 2993, 662, 29, 483, 59, 187, 3337, 669, 1373, 1241, 98, 2, 2782, 66, 726, 4, 130, 15, 1, 167, 272, 13, 1, 16, 126, 1, 106, 4800, 5, 70, 8, 579, 3974, 769, 1703, 878, 81, 3518, 2994, 22, 462, 79, 1, 1724, 1826, 18, 2794, 13, 2428, 3, 7780, 1014, 189, 2, 986, 189, 4, 5137, 11, 930, 36, 5, 6, 2606, 49, 2951, 5, 422, 14, 22, 462, 2, 1, 704, 22, 536, 7, 1091, 2313, 1138, 3727, 2, 1239, 3359, 5, 1363, 96, 89, 18, 38, 2794, 50, 5, 4396, 29, 7544, 2, 169, 3704, 98, 574, 3137, 14, 674, 5964, 4801, 5048, 2, 127, 6286, 1161, 531, 251, 13, 701, 1639, 96, 44, 5365, 2861, 33, 2241, 4, 885, 2, 44, 1826, 28, 27, 1894, 9, 386, 43, 67, 84, 181, 520, 39, 4, 25, 1, 2428, 3, 260, 6549, 1, 152, 7, 8, 12, 65, 19, 995, 4801, 5048, 1374, 34, 1151, 259, 26, 1, 125, 3137, 5, 2713, 5, 6, 52, 573, 21, 413, 18, 4, 317, 7, 229, 103, 2, 2313, 5, 161, 297, 97, 46, 6716, 130, 1, 57, 995, 152, 7, 8, 16, 63, 47, 397, 581, 878, 81, 3518, 2, 1639, 30, 208, 720, 274, 250, 537, 7911, 13, 113, 29, 1355, 105, 1514, 3, 22, 4004, 179, 433, 471, 8, 12, 78, 63, 44, 74, 665, 574, 369, 456, 402, 867, 398, 2, 37, 1001, 344, 106, 59, 10, 335, 49, 1097, 4, 662, 19, 55, 3617, 7912, 1437, 271, 88, 575, 8, 12, 33, 105, 1501, 227, 1743, 656, 7, 8, 12, 35, 10, 19, 55, 2631, 466, 4, 5620, 377, 14, 6, 10, 37, 1001, 369, 867, 344, 2, 648, 2, 1652, 4, 25, 24, 3, 1, 235, 266, 4, 16, 2472, 394, 310]\n"
          ],
          "name": "stdout"
        }
      ]
    },
    {
      "cell_type": "code",
      "metadata": {
        "id": "jz94V-t209Yi",
        "colab_type": "code",
        "colab": {}
      },
      "source": [
        "# Adding 1 because of reserved 0 index\n",
        "vocab_size = len(tokenizer.word_index) + 1\n",
        "\n",
        "maxlen = 500\n",
        "\n",
        "X_train = pad_sequences(X_train, padding='post', maxlen=maxlen)\n",
        "X_test = pad_sequences(X_test, padding='post', maxlen=maxlen)"
      ],
      "execution_count": null,
      "outputs": []
    },
    {
      "cell_type": "code",
      "metadata": {
        "id": "9gqc8Af4U14u",
        "colab_type": "code",
        "colab": {}
      },
      "source": [
        "from numpy import array\n",
        "from numpy import asarray\n",
        "from numpy import zeros\n",
        "\n",
        "embeddings_dictionary = dict()\n",
        "glove_file = open('/content/gdrive/My Drive/glove.6B.100d.txt', encoding=\"utf8\")\n",
        "\n",
        "for line in glove_file:\n",
        "    records = line.split()\n",
        "    word = records[0]\n",
        "    vector_dimensions = asarray(records[1:], dtype='float32')\n",
        "    embeddings_dictionary[word] = vector_dimensions\n",
        "glove_file.close()"
      ],
      "execution_count": null,
      "outputs": []
    },
    {
      "cell_type": "code",
      "metadata": {
        "id": "ydfl61Zfy7uB",
        "colab_type": "code",
        "colab": {}
      },
      "source": [
        "embedding_matrix = zeros((vocab_size, 100))\n",
        "for word, index in tokenizer.word_index.items():\n",
        "    embedding_vector = embeddings_dictionary.get(word)\n",
        "    if embedding_vector is not None:\n",
        "        embedding_matrix[index] = embedding_vector"
      ],
      "execution_count": null,
      "outputs": []
    },
    {
      "cell_type": "code",
      "metadata": {
        "id": "QOKODwlaYkX8",
        "colab_type": "code",
        "colab": {
          "base_uri": "https://localhost:8080/",
          "height": 34
        },
        "outputId": "46f4ce87-4150-4a24-ea52-dd3858c5dc4e"
      },
      "source": [
        "len(embeddings_dictionary)"
      ],
      "execution_count": null,
      "outputs": [
        {
          "output_type": "execute_result",
          "data": {
            "text/plain": [
              "400000"
            ]
          },
          "metadata": {
            "tags": []
          },
          "execution_count": 39
        }
      ]
    },
    {
      "cell_type": "code",
      "metadata": {
        "id": "F5CvceGPzwFK",
        "colab_type": "code",
        "colab": {}
      },
      "source": [
        "model = Sequential()\n",
        "embedding_layer = Embedding(vocab_size, 100, weights=[embedding_matrix], input_length=maxlen , trainable=True)\n",
        "model.add(embedding_layer)\n",
        "model.add(Bidirectional(LSTM(100)))\n",
        "model.add(Dense(1,activation='sigmoid'))\n",
        "model.compile(optimizer=Adam(lr=0.0001), loss='binary_crossentropy', metrics=['acc'])"
      ],
      "execution_count": null,
      "outputs": []
    },
    {
      "cell_type": "code",
      "metadata": {
        "id": "hcTxY1Ts1sTR",
        "colab_type": "code",
        "colab": {
          "base_uri": "https://localhost:8080/",
          "height": 281
        },
        "outputId": "00501fce-6e11-497c-e8ec-cbf76d0f89b3"
      },
      "source": [
        "print(model.summary())"
      ],
      "execution_count": null,
      "outputs": [
        {
          "output_type": "stream",
          "text": [
            "Model: \"sequential_4\"\n",
            "_________________________________________________________________\n",
            "Layer (type)                 Output Shape              Param #   \n",
            "=================================================================\n",
            "embedding_4 (Embedding)      (None, 500, 100)          7603100   \n",
            "_________________________________________________________________\n",
            "bidirectional_4 (Bidirection (None, 200)               160800    \n",
            "_________________________________________________________________\n",
            "dense_4 (Dense)              (None, 1)                 201       \n",
            "=================================================================\n",
            "Total params: 7,764,101\n",
            "Trainable params: 7,764,101\n",
            "Non-trainable params: 0\n",
            "_________________________________________________________________\n",
            "None\n"
          ],
          "name": "stdout"
        }
      ]
    },
    {
      "cell_type": "code",
      "metadata": {
        "id": "z5m-Sddt2YKq",
        "colab_type": "code",
        "colab": {
          "base_uri": "https://localhost:8080/",
          "height": 263
        },
        "outputId": "8708f3d9-5b92-45e2-ad2c-701906855258"
      },
      "source": [
        "history = model.fit(X_train, y_train, batch_size=64, epochs=6, verbose=1, validation_split=0.2)\n",
        "\n",
        "score = model.evaluate(X_test, y_test, verbose=1)"
      ],
      "execution_count": null,
      "outputs": [
        {
          "output_type": "stream",
          "text": [
            "Train on 20000 samples, validate on 5000 samples\n",
            "Epoch 1/6\n",
            "20000/20000 [==============================] - 490s 24ms/step - loss: 0.6395 - acc: 0.6306 - val_loss: 0.5534 - val_acc: 0.7304\n",
            "Epoch 2/6\n",
            "20000/20000 [==============================] - 485s 24ms/step - loss: 0.5579 - acc: 0.7285 - val_loss: 0.5627 - val_acc: 0.7156\n",
            "Epoch 3/6\n",
            "20000/20000 [==============================] - 490s 24ms/step - loss: 0.5779 - acc: 0.7199 - val_loss: 0.5967 - val_acc: 0.7158\n",
            "Epoch 4/6\n",
            "20000/20000 [==============================] - 494s 25ms/step - loss: 0.4920 - acc: 0.7794 - val_loss: 0.4488 - val_acc: 0.8082\n",
            "Epoch 5/6\n",
            "20000/20000 [==============================] - 495s 25ms/step - loss: 0.4324 - acc: 0.8146 - val_loss: 0.4154 - val_acc: 0.8200\n",
            "Epoch 6/6\n",
            "20000/20000 [==============================] - 492s 25ms/step - loss: 0.4073 - acc: 0.8263 - val_loss: 0.3883 - val_acc: 0.8370\n",
            "25000/25000 [==============================] - 145s 6ms/step\n"
          ],
          "name": "stdout"
        }
      ]
    },
    {
      "cell_type": "code",
      "metadata": {
        "id": "oYdpIi8d2dwo",
        "colab_type": "code",
        "colab": {}
      },
      "source": [
        "print(\"Test Score:\", score[0])\n",
        "print(\"Test Accuracy:\", score[1])"
      ],
      "execution_count": null,
      "outputs": []
    },
    {
      "cell_type": "code",
      "metadata": {
        "id": "w6357O894Y4q",
        "colab_type": "code",
        "colab": {}
      },
      "source": [
        "import matplotlib.pyplot as plt\n",
        "\n",
        "plt.plot(history.history['acc'])\n",
        "plt.plot(history.history['val_acc'])\n",
        "\n",
        "plt.title('model accuracy')\n",
        "plt.ylabel('accuracy')\n",
        "plt.xlabel('epoch')\n",
        "plt.legend(['train','test'], loc='upper left')\n",
        "plt.show()\n",
        "\n",
        "plt.plot(history.history['loss'])\n",
        "plt.plot(history.history['val_loss'])\n",
        "\n",
        "plt.title('model loss')\n",
        "plt.ylabel('loss')\n",
        "plt.xlabel('epoch')\n",
        "plt.legend(['train','test'], loc='upper left')\n",
        "plt.show()"
      ],
      "execution_count": null,
      "outputs": []
    },
    {
      "cell_type": "code",
      "metadata": {
        "id": "pfUIDUy34emH",
        "colab_type": "code",
        "colab": {}
      },
      "source": [
        "instance = X[4]\n",
        "print(instance)"
      ],
      "execution_count": null,
      "outputs": []
    },
    {
      "cell_type": "code",
      "metadata": {
        "id": "-exuY5fINlfV",
        "colab_type": "code",
        "colab": {}
      },
      "source": [
        "instance = tokenizer.texts_to_sequences(instance)\n",
        "print(instance)\n",
        "flat_list = []\n",
        "for sublist in instance:\n",
        "    for item in sublist:\n",
        "        flat_list.append(item)\n",
        "\n",
        "flat_list = [flat_list]\n",
        "\n",
        "instance = pad_sequences(flat_list, padding='post', maxlen=maxlen)\n",
        "\n",
        "model.predict(instance)"
      ],
      "execution_count": null,
      "outputs": []
    },
    {
      "cell_type": "code",
      "metadata": {
        "id": "NNRnPwo-Rxx_",
        "colab_type": "code",
        "colab": {}
      },
      "source": [
        "movie_reviews.loc[4]"
      ],
      "execution_count": null,
      "outputs": []
    },
    {
      "cell_type": "code",
      "metadata": {
        "id": "aa_Y10esfPjd",
        "colab_type": "code",
        "colab": {}
      },
      "source": [
        "\n",
        "  "
      ],
      "execution_count": null,
      "outputs": []
    },
    {
      "cell_type": "code",
      "metadata": {
        "id": "tVcnFgOOArpH",
        "colab_type": "code",
        "colab": {}
      },
      "source": [
        ""
      ],
      "execution_count": null,
      "outputs": []
    },
    {
      "cell_type": "code",
      "metadata": {
        "id": "beY_PF4in9EU",
        "colab_type": "code",
        "colab": {}
      },
      "source": [
        ""
      ],
      "execution_count": null,
      "outputs": []
    },
    {
      "cell_type": "code",
      "metadata": {
        "id": "zGoEqXgLuli_",
        "colab_type": "code",
        "colab": {}
      },
      "source": [
        "1"
      ],
      "execution_count": null,
      "outputs": []
    },
    {
      "cell_type": "code",
      "metadata": {
        "id": "Wrny7c3z5_yJ",
        "colab_type": "code",
        "colab": {}
      },
      "source": [
        ""
      ],
      "execution_count": null,
      "outputs": []
    }
  ]
}